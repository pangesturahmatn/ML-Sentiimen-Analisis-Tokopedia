{
  "nbformat": 4,
  "nbformat_minor": 0,
  "metadata": {
    "colab": {
      "provenance": []
    },
    "kernelspec": {
      "name": "python3",
      "display_name": "Python 3"
    },
    "language_info": {
      "name": "python"
    }
  },
  "cells": [
    {
      "cell_type": "markdown",
      "source": [
        "# Scraping ulasan aplikasi dari platform google play store - Pangestu Rahmat N"
      ],
      "metadata": {
        "id": "Y5Ps6CJfp5LC"
      }
    },
    {
      "cell_type": "markdown",
      "source": [
        "Melakukan import library yang dibutuhkan untuk keseluruhan proyek."
      ],
      "metadata": {
        "id": "xQUWVw1wqDSf"
      }
    },
    {
      "cell_type": "code",
      "source": [
        "# Import library\n",
        "from google_play_scraper import reviews_all, reviews, Sort\n",
        "import pandas as pd"
      ],
      "metadata": {
        "id": "g8x16e3vp8n7"
      },
      "execution_count": 17,
      "outputs": []
    },
    {
      "cell_type": "markdown",
      "source": [
        "Melakukan scraping untuk ulasan dari aplikasi tokopedia."
      ],
      "metadata": {
        "id": "tumlonZuqLWM"
      }
    },
    {
      "cell_type": "code",
      "source": [
        "# Mengambil 30000 ulasan aplikasi tokopedia\n",
        "scrapreview = reviews(\n",
        "    'com.tokopedia.tkpd',\n",
        "    lang='id',\n",
        "    country='id',\n",
        "    sort=Sort.MOST_RELEVANT,\n",
        "    count = 30000,\n",
        "    filter_score_with=5\n",
        ")"
      ],
      "metadata": {
        "id": "ojExrFFSqNtb"
      },
      "execution_count": 18,
      "outputs": []
    },
    {
      "cell_type": "markdown",
      "source": [
        "Menyimpan hasil menjadi file csv."
      ],
      "metadata": {
        "id": "shtYV5UfqQtS"
      }
    },
    {
      "cell_type": "code",
      "source": [
        "# Menyimpan hasil scrap ke dalam file csv\n",
        "data = pd.DataFrame(scrapreview[0])\n",
        "data.to_csv('ulasan_aplikasi_tokopedia.csv', index=False)"
      ],
      "metadata": {
        "id": "ZCniRNY-qSnW"
      },
      "execution_count": 19,
      "outputs": []
    }
  ]
}